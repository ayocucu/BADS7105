{
 "cells": [
  {
   "cell_type": "markdown",
   "metadata": {},
   "source": [
    "# ตัวอย่างการหาอนุพันธ์อันดับที่ 1 บนรูปภาพด้วย Sobel operator"
   ]
  },
  {
   "cell_type": "code",
   "execution_count": 1,
   "metadata": {},
   "outputs": [
    {
     "name": "stdout",
     "output_type": "stream",
     "text": [
      "Python 3.8.5 (default, Sep  3 2020, 21:29:08) [MSC v.1916 64 bit (AMD64)]\n",
      "Numpy 1.19.2\n",
      "OpenCV 4.5.1\n"
     ]
    }
   ],
   "source": [
    "import numpy as np\n",
    "import cv2\n",
    "import sys\n",
    "\n",
    "print ( \"Python\", sys.version )\n",
    "print ( \"Numpy\", np.__version__ )\n",
    "print ( \"OpenCV\", cv2.__version__ )"
   ]
  },
  {
   "cell_type": "code",
   "execution_count": 2,
   "metadata": {},
   "outputs": [],
   "source": [
    "import matplotlib\n",
    "matplotlib.use('tkAgg')\n",
    "from matplotlib import pyplot as plt"
   ]
  },
  {
   "cell_type": "markdown",
   "metadata": {},
   "source": [
    "โหลดรูปภาพที่จะใช้ทดสอบมาเป็นภาพ 1-channel greyscale"
   ]
  },
  {
   "cell_type": "code",
   "execution_count": 3,
   "metadata": {},
   "outputs": [
    {
     "name": "stdout",
     "output_type": "stream",
     "text": [
      "(200, 267)\n"
     ]
    }
   ],
   "source": [
    "dir = './fish.jpg'     # './circle_20px.png'  \n",
    "src_8u = cv2.imread( dir , cv2.IMREAD_GRAYSCALE )\n",
    "print( src_8u.shape) "
   ]
  },
  {
   "cell_type": "markdown",
   "metadata": {},
   "source": [
    "กำหนดขนาดของ kernel ที่จะใช้ในตัวแปร **ksize** (ขนาดเป็นเลขคี่ตั้งแต่ 1, 3, 5, 7, 9, ...) นักศึกษาสามารถลองเปลี่ยนค่า ksize เพื่อดูผลลัพธ์ที่เปลี่ยนไปได้\n",
    "\n",
    "เนื่องจาก Sobel operator คือ กระบวนการที่รวมเอา 2 kernels ได้แก่ \n",
    "- kernel สำหรับทำ Gaussian smooth \n",
    "- kernel สำหรับหาอนุพันธ์อันดับ 1 \n",
    "\n",
    "รวมเข้าไว้ในตัวเดียวกัน ค่า ksize ที่กำหนดในที่นี้ ก็คือ ขนาดของ kernel สำหรับการทำ Gaussian smooth ส่วนแรกนั่นเอง"
   ]
  },
  {
   "cell_type": "code",
   "execution_count": 4,
   "metadata": {},
   "outputs": [],
   "source": [
    "ksize = 9\n",
    "if ksize == 3:\n",
    "    ksize = -1   # use Scharr filter instead of Sobel"
   ]
  },
  {
   "cell_type": "markdown",
   "metadata": {},
   "source": [
    "คำนวณผลลัพธ์ของการทำอนุพันธ์อันดับ 1 (= Gradient) ในแนวแกน X และแนวแกน Y แยกกันอย่างละ 1 ภาพด้วย Sobel operator ทั้งนี้ผลลัพธ์ที่ได้จะไม่ใช่ภาพชนิด Unsigned 8-bit integer (0-255) ตามปกติ แต่ต้องใช้เป็นภาพชนิด 64-bit float เพื่อให้รองรับผลลัพธ์ที่อาจมีค่าติดลบและค่าทศนิยมจากการทำ Sobel ได้"
   ]
  },
  {
   "cell_type": "code",
   "execution_count": 5,
   "metadata": {},
   "outputs": [
    {
     "name": "stdout",
     "output_type": "stream",
     "text": [
      "src_8u: uint8 [[79 79 79 79 79 79 79 79 79 80 80 81 81 81 80]\n",
      " [79 79 79 79 79 79 79 79 79 79 80 80 80 80 79]\n",
      " [79 79 79 79 79 79 79 79 79 79 79 79 79 79 79]\n",
      " [79 79 79 79 79 79 80 80 79 79 79 79 79 78 79]\n",
      " [78 78 78 78 78 78 80 80 80 80 79 79 79 79 79]]\n",
      "sobelX_64f: float64 [[ 0.  0.  0.  0.  0.  0.  0.  0.  2.  4.  4.  2.  0. -4. -2.]\n",
      " [ 0.  0.  0.  0.  0.  0.  0.  0.  1.  3.  3.  1.  0. -3.  0.]\n",
      " [ 0.  0.  0.  0.  0.  1.  1. -1. -1.  1.  1.  0. -1. -1.  3.]\n",
      " [ 0.  0.  0.  0.  0.  4.  4. -2. -2. -1. -1.  0. -2.  0.  3.]\n",
      " [ 0.  0.  0.  0.  0.  7.  7. -1. -1. -3. -3.  0. -1.  0.  1.]]\n",
      "sobelY_64f: float64 [[ 0.  0.  0.  0.  0.  0.  0.  0.  0.  0.  0.  0.  0.  0.  0.]\n",
      " [ 0.  0.  0.  0.  0.  0.  0.  0. -1. -3. -5. -7. -8. -7. -4.]\n",
      " [ 0.  0.  0.  0.  0.  1.  3.  3.  1. -1. -3. -4. -5. -5. -3.]\n",
      " [-4. -4. -4. -4. -4. -2.  2.  4.  4.  3.  1.  0.  0.  0. -1.]\n",
      " [-4. -4. -4. -4. -4. -3. -1.  1.  3.  3.  1.  0.  1.  2.  1.]]\n"
     ]
    }
   ],
   "source": [
    "# Compute the 1st derivative in both axes\n",
    "# Not use cv2.CV_8U (np.uint8) as it doesn't support negative value\n",
    "sobelX_64f = cv2.Sobel( src_8u,\n",
    "                        cv2.CV_64F,\n",
    "                        1,          # order of X derivative\n",
    "                        0,          # order of Y derivative \n",
    "                        ksize )     # kernel size (optional)\n",
    "sobelY_64f = cv2.Sobel( src_8u,\n",
    "                        cv2.CV_64F,\n",
    "                        0,          # order of X derivative\n",
    "                        1,          # order of Y derivative \n",
    "                        ksize )     # kernel size (optional)\n",
    "\n",
    "# Test printing some values from the images\n",
    "print( 'src_8u:', src_8u.dtype , src_8u[ :5 , 50:65 ] )\n",
    "print( 'sobelX_64f:', sobelX_64f.dtype , sobelX_64f[ :5 , 50:65 ] )\n",
    "print( 'sobelY_64f:', sobelY_64f.dtype , sobelY_64f[ :5 , 50:65 ] )"
   ]
  },
  {
   "cell_type": "markdown",
   "metadata": {},
   "source": [
    "คำนวณ Magnitude of Gradient และ Orientation of Gradient โดยใช้ภาพผลลัพธ์ทั้ง 2 ภาพจาก Sobel มาคำนวณร่วมกัน"
   ]
  },
  {
   "cell_type": "code",
   "execution_count": 6,
   "metadata": {},
   "outputs": [
    {
     "name": "stdout",
     "output_type": "stream",
     "text": [
      "mag_64f: float64 [[0.  0.  0.  0.  0.  0.  0.  0.  2.  4.  4.  2.  0.  4.  2. ]\n",
      " [0.  0.  0.  0.  0.  0.  0.  0.  1.4 4.2 5.8 7.1 8.  7.6 4. ]\n",
      " [0.  0.  0.  0.  0.  1.4 3.2 3.2 1.4 1.4 3.2 4.  5.1 5.1 4.2]\n",
      " [4.  4.  4.  4.  4.  4.5 4.5 4.5 4.5 3.2 1.4 0.  2.  0.  3.2]\n",
      " [4.  4.  4.  4.  4.  7.6 7.1 1.4 3.2 4.2 3.2 0.  1.4 2.  1.4]]\n",
      "orient_360: float64 [[  0.    0.    0.    0.    0.    0.    0.    0.    0.    0.    0.    0.\n",
      "    0.  180.  180. ]\n",
      " [  0.    0.    0.    0.    0.    0.    0.    0.  315.  315.  301.  278.1\n",
      "  270.  246.8 270. ]\n",
      " [  0.    0.    0.    0.    0.   45.   71.6 108.4 135.  315.  288.4 270.\n",
      "  258.7 258.7 315. ]\n",
      " [270.  270.  270.  270.  270.  333.4  26.6 116.6 116.6 108.4 135.    0.\n",
      "  180.    0.  341.6]\n",
      " [270.  270.  270.  270.  270.  336.8 351.9 135.  108.4 135.  161.6   0.\n",
      "  135.   90.   45. ]]\n"
     ]
    }
   ],
   "source": [
    "# Compute magnitude and orientation of gradient\n",
    "mag_64f = cv2.magnitude( sobelX_64f, sobelY_64f )\n",
    "orient_360 = cv2.phase( sobelX_64f, sobelY_64f, angleInDegrees=True )\n",
    "\n",
    "# Test printing some values from the images\n",
    "np.set_printoptions(precision=1)\n",
    "print( 'mag_64f:', mag_64f.dtype , mag_64f[ :5 , 50:65 ] )\n",
    "print( 'orient_360:', orient_360.dtype , orient_360[ :5 , 50:65 ] )"
   ]
  },
  {
   "cell_type": "markdown",
   "metadata": {},
   "source": [
    "หากลองแสดงผลภาพ sobelX_64f, sobelY_64f, mag_64f และ orient_360 ซึ่งเป็นภาพชนิด 64-bit float ออกมาด้วยคำสั่ง cv2.imshow จะเห็นว่าแสดงผลได้ แต่ภาพที่ได้อาจไม่ตรงกับปกติที่เราคุ้นกันว่า 0=ดำปี๋ และ 255=ขาวจั๊วะ"
   ]
  },
  {
   "cell_type": "code",
   "execution_count": 7,
   "metadata": {},
   "outputs": [
    {
     "data": {
      "text/plain": [
       "-1"
      ]
     },
     "execution_count": 7,
     "metadata": {},
     "output_type": "execute_result"
    }
   ],
   "source": [
    "cv2.imshow('sobelX_64f',sobelX_64f)\n",
    "cv2.imshow('sobelY_64f',sobelY_64f)\n",
    "cv2.imshow('mag_64f',mag_64f)\n",
    "cv2.imshow('orient_360',orient_360)\n",
    "cv2.waitKey(1)"
   ]
  },
  {
   "cell_type": "markdown",
   "metadata": {},
   "source": [
    "เพื่อปรับสเกลทุกภาพให้เป็น Unsigned 8-bit integer (0-255) ตามที่เราคุ้นเคยกันดี จึงเพิ่มคำสั่งการ normalize รูปภาพทั้ง 4 เข้าไป โดยการ normalize รูปภาพจาก 64-bit float ไปเป็น Unsigned 8-bit integer ในที่นี้ใช้การใส่ absolute เพื่อให้ไม่มีค่าติดลบก่อน แล้วจึงนำค่ามาสเกลแบบบัญญัติไตรยางค์ธรรมดา (ทั้งนี้นักศึกษาสามารถเปลี่ยนไปใช้วิธีการ normalize วิธีอื่นได้ตามความเหมาะสม)"
   ]
  },
  {
   "cell_type": "code",
   "execution_count": 8,
   "metadata": {},
   "outputs": [
    {
     "name": "stdout",
     "output_type": "stream",
     "text": [
      "sobelX_8u: uint8 [[0 0 0 0 0 0 0 0 0 1 1 0 0 1 0]\n",
      " [0 0 0 0 0 0 0 0 0 0 0 0 0 0 0]\n",
      " [0 0 0 0 0 0 0 0 0 0 0 0 0 0 0]\n",
      " [0 0 0 0 0 1 1 0 0 0 0 0 0 0 0]\n",
      " [0 0 0 0 0 2 2 0 0 0 0 0 0 0 0]]\n",
      "sobelY_8u: uint8 [[0 0 0 0 0 0 0 0 0 0 0 0 0 0 0]\n",
      " [0 0 0 0 0 0 0 0 0 0 1 2 2 2 1]\n",
      " [0 0 0 0 0 0 0 0 0 0 0 1 1 1 0]\n",
      " [1 1 1 1 1 0 0 1 1 0 0 0 0 0 0]\n",
      " [1 1 1 1 1 0 0 0 0 0 0 0 0 0 0]]\n",
      "mag_8u: uint8 [[0 0 0 0 0 0 0 0 0 1 1 0 0 1 0]\n",
      " [0 0 0 0 0 0 0 0 0 1 1 1 2 2 1]\n",
      " [0 0 0 0 0 0 0 0 0 0 0 1 1 1 1]\n",
      " [1 1 1 1 1 1 1 1 1 0 0 0 0 0 0]\n",
      " [1 1 1 1 1 2 1 0 0 1 0 0 0 0 0]]\n",
      "orient_8u: uint8 [[  0   0   0   0   0   0   0   0   0   0   0   0   0 127 127]\n",
      " [  0   0   0   0   0   0   0   0 223 223 213 197 191 175 191]\n",
      " [  0   0   0   0   0  31  50  76  95 223 204 191 183 183 223]\n",
      " [191 191 191 191 191 236  18  82  82  76  95   0 127   0 242]\n",
      " [191 191 191 191 191 238 249  95  76  95 114   0  95  63  31]]\n"
     ]
    }
   ],
   "source": [
    "# Simply convert the input image to CV_8U (np.uint8) by neglecting negative sign\n",
    "def convert_normalize_8u ( img ):\n",
    "    img_abs = np.absolute ( img )\n",
    "    img_8u = np.uint8 ( img_abs * ( 255 / img_abs.max() ) )\n",
    "    return img_8u\n",
    "\n",
    "# Convert to cv2.CV_8U\n",
    "sobelX_8u = convert_normalize_8u ( sobelX_64f )\n",
    "sobelY_8u = convert_normalize_8u ( sobelY_64f )\n",
    "mag_8u = convert_normalize_8u ( mag_64f )\n",
    "orient_8u = convert_normalize_8u ( orient_360 )\n",
    "\n",
    "# Test printing some values from the images\n",
    "print( 'sobelX_8u:', sobelX_8u.dtype , sobelX_8u[ :5 , 50:65 ] )\n",
    "print( 'sobelY_8u:', sobelY_8u.dtype , sobelY_8u[ :5 , 50:65 ] )\n",
    "print( 'mag_8u:', mag_8u.dtype , mag_8u[ :5 , 50:65 ] )\n",
    "print( 'orient_8u:', orient_8u.dtype , orient_8u[ :5 , 50:65 ] )"
   ]
  },
  {
   "cell_type": "markdown",
   "metadata": {},
   "source": [
    "แสดงผลลัพธ์ทั้งหมดรวมไว้ในหน้าต่างแยกของ matplotlib"
   ]
  },
  {
   "cell_type": "code",
   "execution_count": 9,
   "metadata": {},
   "outputs": [],
   "source": [
    "# Put everything in lists\n",
    "titles = ['Original',\n",
    "          'Sobel X ('+str(ksize)+'x'+str(ksize)+')',\n",
    "          'Sobel Y ('+str(ksize)+'x'+str(ksize)+')',\n",
    "          'Magnitude','Orientation',\n",
    "          '','','','','']\n",
    "if ksize == -1:\n",
    "    titles[1:3] = ['Scharr X (3x3)','Scharr Y (3x3)' ]\n",
    "images = [src_8u, sobelX_8u, sobelY_8u, mag_8u, orient_8u,\n",
    "          None,\n",
    "          cv2.applyColorMap ( sobelX_8u, cv2.COLORMAP_JET ),\n",
    "          cv2.applyColorMap ( sobelY_8u, cv2.COLORMAP_JET ),\n",
    "          cv2.applyColorMap ( mag_8u, cv2.COLORMAP_JET ),\n",
    "          cv2.applyColorMap ( orient_8u, cv2.COLORMAP_JET ) ]\n",
    "\n",
    "# Plot all results using pyplot\n",
    "plt.figure(\"Sobel operator: first-order derivative\")\n",
    "for i in range ( len(images) ):\n",
    "    if images[i] is None:\n",
    "        continue\n",
    "    plt.subplot(2,5,i+1)\n",
    "    plt.title(titles[i])\n",
    "    if titles[i] != '':\n",
    "        plt.imshow( images[i], cmap='gray' )\n",
    "    else:\n",
    "        plt.imshow( cv2.cvtColor( images[i], cv2.COLOR_BGR2RGB ) )\n",
    "    plt.xticks( [] ) ; plt.yticks( [] )\n",
    "\n",
    "plt.show()"
   ]
  },
  {
   "cell_type": "code",
   "execution_count": 10,
   "metadata": {},
   "outputs": [],
   "source": [
    "cv2.destroyAllWindows()"
   ]
  },
  {
   "cell_type": "code",
   "execution_count": null,
   "metadata": {},
   "outputs": [],
   "source": []
  }
 ],
 "metadata": {
  "kernelspec": {
   "display_name": "Python 3",
   "language": "python",
   "name": "python3"
  },
  "language_info": {
   "codemirror_mode": {
    "name": "ipython",
    "version": 3
   },
   "file_extension": ".py",
   "mimetype": "text/x-python",
   "name": "python",
   "nbconvert_exporter": "python",
   "pygments_lexer": "ipython3",
   "version": "3.8.5"
  }
 },
 "nbformat": 4,
 "nbformat_minor": 2
}
